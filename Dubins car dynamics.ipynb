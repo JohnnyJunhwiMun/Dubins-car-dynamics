{
 "cells": [
  {
   "cell_type": "markdown",
   "id": "4e32b319",
   "metadata": {
    "id": "4e32b319"
   },
   "source": [
    "# An Introduction to Neural Networks: Learning the Dubins car dynamics\n",
    "\n",
    "\n",
    "In this notebook, we aim to **see the dynamics of the Dubins car using a fully connected neural network** in Python. For this, we will employ the Pytorch library, which is an optimized tensor library for deep learning.\n",
    "\n",
    "Let $h$ be a step size, $v$ a velocity, and $u$ a constant control. The Dubins car model (in discrete time) can be described as:\n",
    "\n",
    "\\begin{equation}\n",
    "x_{t+1} = f(x_t) = \\begin{bmatrix}\n",
    "                      x_{t}^{(1)} + h v \\sin(x_{t}^{(3)}) \\\\\n",
    "                      x_{t}^{(2)} + h v \\cos(x_{t}^{(3)}) \\\\\n",
    "                      x_{t}^{(3)} + h u\n",
    "                    \\end{bmatrix}\n",
    "\\end{equation}\n",
    "\n",
    "where $x_{t}^{(1)}$ represents the $x$-position of the car at instant $t$, $x_{t}^{(2)}$ the $y$-position, and $x_{t}^{(3)}$ is its steering angle. Note that this dynamics is non-linear."
   ]
  },
  {
   "cell_type": "markdown",
   "id": "916634f9",
   "metadata": {
    "id": "916634f9"
   },
   "source": [
    "###  Loading required libraries\n",
    "\n",
    "First, we load the packages we want to use. This includes Numpy for preprocessing the data, Pytorch (torch) for building and training the neural networks, and Matplotlib for visualization."
   ]
  },
  {
   "cell_type": "code",
   "execution_count": 1,
   "id": "6d7a1fc7",
   "metadata": {
    "executionInfo": {
     "elapsed": 14587,
     "status": "ok",
     "timestamp": 1715798371705,
     "user": {
      "displayName": "Johnny M",
      "userId": "01154982244905029082"
     },
     "user_tz": -120
    },
    "id": "6d7a1fc7"
   },
   "outputs": [],
   "source": [
    "import numpy as np\n",
    "\n",
    "import torch\n",
    "import torch.nn as nn\n",
    "import torch.optim as optim\n",
    "import torch.nn.functional as F\n",
    "\n",
    "import matplotlib.pyplot as plt\n",
    "\n",
    "import tensorflow as tf\n",
    "\n"
   ]
  },
  {
   "cell_type": "code",
   "execution_count": 2,
   "id": "2U8Bujs1oxy9",
   "metadata": {
    "colab": {
     "base_uri": "https://localhost:8080/"
    },
    "executionInfo": {
     "elapsed": 21202,
     "status": "ok",
     "timestamp": 1715798397794,
     "user": {
      "displayName": "Johnny M",
      "userId": "01154982244905029082"
     },
     "user_tz": -120
    },
    "id": "2U8Bujs1oxy9",
    "outputId": "db8406cd-adbd-4200-90d0-26dce66b7aed"
   },
   "outputs": [
    {
     "name": "stdout",
     "output_type": "stream",
     "text": [
      "Mounted at /content/drive\n"
     ]
    }
   ],
   "source": [
    "from google.colab import drive\n",
    "drive.mount('/content/drive')"
   ]
  },
  {
   "cell_type": "code",
   "execution_count": 3,
   "id": "v3SwqpDlpWfO",
   "metadata": {
    "colab": {
     "base_uri": "https://localhost:8080/"
    },
    "executionInfo": {
     "elapsed": 530,
     "status": "ok",
     "timestamp": 1715798410719,
     "user": {
      "displayName": "Johnny M",
      "userId": "01154982244905029082"
     },
     "user_tz": -120
    },
    "id": "v3SwqpDlpWfO",
    "outputId": "192d250e-a3d2-4499-ad9d-5782fef79955"
   },
   "outputs": [
    {
     "name": "stderr",
     "output_type": "stream",
     "text": [
      "WARNING:tensorflow:From <ipython-input-3-b5b3b54618bc>:2: is_gpu_available (from tensorflow.python.framework.test_util) is deprecated and will be removed in a future version.\n",
      "Instructions for updating:\n",
      "Use `tf.config.list_physical_devices('GPU')` instead.\n"
     ]
    },
    {
     "name": "stdout",
     "output_type": "stream",
     "text": [
      "GPU Available: True\n"
     ]
    }
   ],
   "source": [
    "# Check GPU availability\n",
    "print(\"GPU Available:\", tf.test.is_gpu_available())"
   ]
  },
  {
   "cell_type": "markdown",
   "id": "ce823ebb",
   "metadata": {
    "id": "ce823ebb"
   },
   "source": [
    "### 3) Loading the dataset\n",
    "\n",
    "To build our dataset, we selected the values for the parameters $h = 0.3$, $v = 5$, and $u = 2$ and generated a dataset $\\mathcal{D} = \\{ x_{t}, x_{t+1}  \\}_{t=0}^{N}$ by simulating the system for multiple (randomly selected) initial positions for 20 time steps. In order words, we use the following routine to build the set:\n",
    "\n",
    "For $M$ runs:\n",
    "\n",
    "- Select randomly $x_0$ according to some probability distribution\n",
    "\n",
    "- Use equation (1) for $H$ steps (we use $H = 20$ in this exercise)\n",
    "\n",
    "- Store the trajectory as $\\{ (x_{0}, x_{1}), ..., (x_{H-1}, x_{H}) \\}$\n",
    "\n",
    "- Include the trajectory in the dataset $\\mathcal{D}$\n",
    "\n",
    "\n",
    "In the end, our dataset $\\mathcal{D}$ will contain $MH$ data pairs $(x_{t}, x_{t+1})$, which we will further denote by $(x, y)$ (see, for instance, the dataset columns' names).\n",
    "\n",
    "For more details, we have also made available the notebook *dataset_generation.ipynb*."
   ]
  },
  {
   "cell_type": "code",
   "execution_count": 4,
   "id": "81d15c12",
   "metadata": {
    "executionInfo": {
     "elapsed": 2709,
     "status": "ok",
     "timestamp": 1715798417802,
     "user": {
      "displayName": "Johnny M",
      "userId": "01154982244905029082"
     },
     "user_tz": -120
    },
    "id": "81d15c12"
   },
   "outputs": [],
   "source": [
    "import pandas as pd\n",
    "\n",
    "#Read CSV file containing data\n",
    "data = pd.read_csv('/content/drive/MyDrive/ML S&C PracticalAssignment1/data.csv') # change path if necessary\n",
    "\n",
    "#Deserialize the strings back into NumPy arrays\n",
    "data['x'] = data['x'].apply(lambda x: np.array(x.split(), dtype=float))\n",
    "data['y'] = data['y'].apply(lambda x: np.array(x.split(), dtype=float))"
   ]
  },
  {
   "cell_type": "markdown",
   "id": "5c997b20",
   "metadata": {
    "id": "5c997b20"
   },
   "source": [
    "Below, we display the first observations of the dataset. Note how each value can be represented by a vector in $\\mathbb{R}^3$."
   ]
  },
  {
   "cell_type": "code",
   "execution_count": 5,
   "id": "152edb6b",
   "metadata": {
    "colab": {
     "base_uri": "https://localhost:8080/",
     "height": 206
    },
    "executionInfo": {
     "elapsed": 202,
     "status": "ok",
     "timestamp": 1715798420734,
     "user": {
      "displayName": "Johnny M",
      "userId": "01154982244905029082"
     },
     "user_tz": -120
    },
    "id": "152edb6b",
    "outputId": "d6a8935d-cdc0-4345-d70c-381f6a2e441f"
   },
   "outputs": [
    {
     "data": {
      "application/vnd.google.colaboratory.intrinsic+json": {
       "type": "dataframe",
       "variable_name": "data"
      },
      "text/html": [
       "\n",
       "  <div id=\"df-628fb14f-50bd-49b0-a724-1ad423c2bfef\" class=\"colab-df-container\">\n",
       "    <div>\n",
       "<style scoped>\n",
       "    .dataframe tbody tr th:only-of-type {\n",
       "        vertical-align: middle;\n",
       "    }\n",
       "\n",
       "    .dataframe tbody tr th {\n",
       "        vertical-align: top;\n",
       "    }\n",
       "\n",
       "    .dataframe thead th {\n",
       "        text-align: right;\n",
       "    }\n",
       "</style>\n",
       "<table border=\"1\" class=\"dataframe\">\n",
       "  <thead>\n",
       "    <tr style=\"text-align: right;\">\n",
       "      <th></th>\n",
       "      <th>x</th>\n",
       "      <th>y</th>\n",
       "    </tr>\n",
       "  </thead>\n",
       "  <tbody>\n",
       "    <tr>\n",
       "      <th>0</th>\n",
       "      <td>[0.3101802085903067, -2.7617156216425283, -0.9...</td>\n",
       "      <td>[-0.8985558258519621, -1.873482994995219, -0.3...</td>\n",
       "    </tr>\n",
       "    <tr>\n",
       "      <th>1</th>\n",
       "      <td>[1.2107662316485737, -0.518452332717056, -2.02...</td>\n",
       "      <td>[-0.13627455041796743, -1.1783622746406195, -1...</td>\n",
       "    </tr>\n",
       "    <tr>\n",
       "      <th>2</th>\n",
       "      <td>[-1.8964583531063366, -2.3254043134674305, -2....</td>\n",
       "      <td>[-2.708374788860225, -3.586670225697164, -1.96...</td>\n",
       "    </tr>\n",
       "    <tr>\n",
       "      <th>3</th>\n",
       "      <td>[-2.5967448061008858, -2.726547485741719, 0.68...</td>\n",
       "      <td>[-1.6451114237123, -1.5670674705954208, 1.2872...</td>\n",
       "    </tr>\n",
       "    <tr>\n",
       "      <th>4</th>\n",
       "      <td>[-2.4125823366086436, 2.487834736931684, -1.95...</td>\n",
       "      <td>[-3.8019700085300654, 1.9225012980544394, -1.3...</td>\n",
       "    </tr>\n",
       "  </tbody>\n",
       "</table>\n",
       "</div>\n",
       "    <div class=\"colab-df-buttons\">\n",
       "\n",
       "  <div class=\"colab-df-container\">\n",
       "    <button class=\"colab-df-convert\" onclick=\"convertToInteractive('df-628fb14f-50bd-49b0-a724-1ad423c2bfef')\"\n",
       "            title=\"Convert this dataframe to an interactive table.\"\n",
       "            style=\"display:none;\">\n",
       "\n",
       "  <svg xmlns=\"http://www.w3.org/2000/svg\" height=\"24px\" viewBox=\"0 -960 960 960\">\n",
       "    <path d=\"M120-120v-720h720v720H120Zm60-500h600v-160H180v160Zm220 220h160v-160H400v160Zm0 220h160v-160H400v160ZM180-400h160v-160H180v160Zm440 0h160v-160H620v160ZM180-180h160v-160H180v160Zm440 0h160v-160H620v160Z\"/>\n",
       "  </svg>\n",
       "    </button>\n",
       "\n",
       "  <style>\n",
       "    .colab-df-container {\n",
       "      display:flex;\n",
       "      gap: 12px;\n",
       "    }\n",
       "\n",
       "    .colab-df-convert {\n",
       "      background-color: #E8F0FE;\n",
       "      border: none;\n",
       "      border-radius: 50%;\n",
       "      cursor: pointer;\n",
       "      display: none;\n",
       "      fill: #1967D2;\n",
       "      height: 32px;\n",
       "      padding: 0 0 0 0;\n",
       "      width: 32px;\n",
       "    }\n",
       "\n",
       "    .colab-df-convert:hover {\n",
       "      background-color: #E2EBFA;\n",
       "      box-shadow: 0px 1px 2px rgba(60, 64, 67, 0.3), 0px 1px 3px 1px rgba(60, 64, 67, 0.15);\n",
       "      fill: #174EA6;\n",
       "    }\n",
       "\n",
       "    .colab-df-buttons div {\n",
       "      margin-bottom: 4px;\n",
       "    }\n",
       "\n",
       "    [theme=dark] .colab-df-convert {\n",
       "      background-color: #3B4455;\n",
       "      fill: #D2E3FC;\n",
       "    }\n",
       "\n",
       "    [theme=dark] .colab-df-convert:hover {\n",
       "      background-color: #434B5C;\n",
       "      box-shadow: 0px 1px 3px 1px rgba(0, 0, 0, 0.15);\n",
       "      filter: drop-shadow(0px 1px 2px rgba(0, 0, 0, 0.3));\n",
       "      fill: #FFFFFF;\n",
       "    }\n",
       "  </style>\n",
       "\n",
       "    <script>\n",
       "      const buttonEl =\n",
       "        document.querySelector('#df-628fb14f-50bd-49b0-a724-1ad423c2bfef button.colab-df-convert');\n",
       "      buttonEl.style.display =\n",
       "        google.colab.kernel.accessAllowed ? 'block' : 'none';\n",
       "\n",
       "      async function convertToInteractive(key) {\n",
       "        const element = document.querySelector('#df-628fb14f-50bd-49b0-a724-1ad423c2bfef');\n",
       "        const dataTable =\n",
       "          await google.colab.kernel.invokeFunction('convertToInteractive',\n",
       "                                                    [key], {});\n",
       "        if (!dataTable) return;\n",
       "\n",
       "        const docLinkHtml = 'Like what you see? Visit the ' +\n",
       "          '<a target=\"_blank\" href=https://colab.research.google.com/notebooks/data_table.ipynb>data table notebook</a>'\n",
       "          + ' to learn more about interactive tables.';\n",
       "        element.innerHTML = '';\n",
       "        dataTable['output_type'] = 'display_data';\n",
       "        await google.colab.output.renderOutput(dataTable, element);\n",
       "        const docLink = document.createElement('div');\n",
       "        docLink.innerHTML = docLinkHtml;\n",
       "        element.appendChild(docLink);\n",
       "      }\n",
       "    </script>\n",
       "  </div>\n",
       "\n",
       "\n",
       "<div id=\"df-41b16fa4-b71c-4d3b-808b-63e5cf2acd38\">\n",
       "  <button class=\"colab-df-quickchart\" onclick=\"quickchart('df-41b16fa4-b71c-4d3b-808b-63e5cf2acd38')\"\n",
       "            title=\"Suggest charts\"\n",
       "            style=\"display:none;\">\n",
       "\n",
       "<svg xmlns=\"http://www.w3.org/2000/svg\" height=\"24px\"viewBox=\"0 0 24 24\"\n",
       "     width=\"24px\">\n",
       "    <g>\n",
       "        <path d=\"M19 3H5c-1.1 0-2 .9-2 2v14c0 1.1.9 2 2 2h14c1.1 0 2-.9 2-2V5c0-1.1-.9-2-2-2zM9 17H7v-7h2v7zm4 0h-2V7h2v10zm4 0h-2v-4h2v4z\"/>\n",
       "    </g>\n",
       "</svg>\n",
       "  </button>\n",
       "\n",
       "<style>\n",
       "  .colab-df-quickchart {\n",
       "      --bg-color: #E8F0FE;\n",
       "      --fill-color: #1967D2;\n",
       "      --hover-bg-color: #E2EBFA;\n",
       "      --hover-fill-color: #174EA6;\n",
       "      --disabled-fill-color: #AAA;\n",
       "      --disabled-bg-color: #DDD;\n",
       "  }\n",
       "\n",
       "  [theme=dark] .colab-df-quickchart {\n",
       "      --bg-color: #3B4455;\n",
       "      --fill-color: #D2E3FC;\n",
       "      --hover-bg-color: #434B5C;\n",
       "      --hover-fill-color: #FFFFFF;\n",
       "      --disabled-bg-color: #3B4455;\n",
       "      --disabled-fill-color: #666;\n",
       "  }\n",
       "\n",
       "  .colab-df-quickchart {\n",
       "    background-color: var(--bg-color);\n",
       "    border: none;\n",
       "    border-radius: 50%;\n",
       "    cursor: pointer;\n",
       "    display: none;\n",
       "    fill: var(--fill-color);\n",
       "    height: 32px;\n",
       "    padding: 0;\n",
       "    width: 32px;\n",
       "  }\n",
       "\n",
       "  .colab-df-quickchart:hover {\n",
       "    background-color: var(--hover-bg-color);\n",
       "    box-shadow: 0 1px 2px rgba(60, 64, 67, 0.3), 0 1px 3px 1px rgba(60, 64, 67, 0.15);\n",
       "    fill: var(--button-hover-fill-color);\n",
       "  }\n",
       "\n",
       "  .colab-df-quickchart-complete:disabled,\n",
       "  .colab-df-quickchart-complete:disabled:hover {\n",
       "    background-color: var(--disabled-bg-color);\n",
       "    fill: var(--disabled-fill-color);\n",
       "    box-shadow: none;\n",
       "  }\n",
       "\n",
       "  .colab-df-spinner {\n",
       "    border: 2px solid var(--fill-color);\n",
       "    border-color: transparent;\n",
       "    border-bottom-color: var(--fill-color);\n",
       "    animation:\n",
       "      spin 1s steps(1) infinite;\n",
       "  }\n",
       "\n",
       "  @keyframes spin {\n",
       "    0% {\n",
       "      border-color: transparent;\n",
       "      border-bottom-color: var(--fill-color);\n",
       "      border-left-color: var(--fill-color);\n",
       "    }\n",
       "    20% {\n",
       "      border-color: transparent;\n",
       "      border-left-color: var(--fill-color);\n",
       "      border-top-color: var(--fill-color);\n",
       "    }\n",
       "    30% {\n",
       "      border-color: transparent;\n",
       "      border-left-color: var(--fill-color);\n",
       "      border-top-color: var(--fill-color);\n",
       "      border-right-color: var(--fill-color);\n",
       "    }\n",
       "    40% {\n",
       "      border-color: transparent;\n",
       "      border-right-color: var(--fill-color);\n",
       "      border-top-color: var(--fill-color);\n",
       "    }\n",
       "    60% {\n",
       "      border-color: transparent;\n",
       "      border-right-color: var(--fill-color);\n",
       "    }\n",
       "    80% {\n",
       "      border-color: transparent;\n",
       "      border-right-color: var(--fill-color);\n",
       "      border-bottom-color: var(--fill-color);\n",
       "    }\n",
       "    90% {\n",
       "      border-color: transparent;\n",
       "      border-bottom-color: var(--fill-color);\n",
       "    }\n",
       "  }\n",
       "</style>\n",
       "\n",
       "  <script>\n",
       "    async function quickchart(key) {\n",
       "      const quickchartButtonEl =\n",
       "        document.querySelector('#' + key + ' button');\n",
       "      quickchartButtonEl.disabled = true;  // To prevent multiple clicks.\n",
       "      quickchartButtonEl.classList.add('colab-df-spinner');\n",
       "      try {\n",
       "        const charts = await google.colab.kernel.invokeFunction(\n",
       "            'suggestCharts', [key], {});\n",
       "      } catch (error) {\n",
       "        console.error('Error during call to suggestCharts:', error);\n",
       "      }\n",
       "      quickchartButtonEl.classList.remove('colab-df-spinner');\n",
       "      quickchartButtonEl.classList.add('colab-df-quickchart-complete');\n",
       "    }\n",
       "    (() => {\n",
       "      let quickchartButtonEl =\n",
       "        document.querySelector('#df-41b16fa4-b71c-4d3b-808b-63e5cf2acd38 button');\n",
       "      quickchartButtonEl.style.display =\n",
       "        google.colab.kernel.accessAllowed ? 'block' : 'none';\n",
       "    })();\n",
       "  </script>\n",
       "</div>\n",
       "    </div>\n",
       "  </div>\n"
      ],
      "text/plain": [
       "                                                   x  \\\n",
       "0  [0.3101802085903067, -2.7617156216425283, -0.9...   \n",
       "1  [1.2107662316485737, -0.518452332717056, -2.02...   \n",
       "2  [-1.8964583531063366, -2.3254043134674305, -2....   \n",
       "3  [-2.5967448061008858, -2.726547485741719, 0.68...   \n",
       "4  [-2.4125823366086436, 2.487834736931684, -1.95...   \n",
       "\n",
       "                                                   y  \n",
       "0  [-0.8985558258519621, -1.873482994995219, -0.3...  \n",
       "1  [-0.13627455041796743, -1.1783622746406195, -1...  \n",
       "2  [-2.708374788860225, -3.586670225697164, -1.96...  \n",
       "3  [-1.6451114237123, -1.5670674705954208, 1.2872...  \n",
       "4  [-3.8019700085300654, 1.9225012980544394, -1.3...  "
      ]
     },
     "execution_count": 5,
     "metadata": {},
     "output_type": "execute_result"
    }
   ],
   "source": [
    "#Display dataset (5 first observations)\n",
    "data.head(5)"
   ]
  },
  {
   "cell_type": "markdown",
   "id": "f9d03693",
   "metadata": {
    "id": "f9d03693"
   },
   "source": [
    "#### 3.1) Splitting the dataset into training and testing sets\n",
    "\n",
    "With the help of the Scikit-Learn package (https://scikit-learn.org/stable/) - one of the most famous and useful ML libraries available -, we use the *train_test_split* method to split our dataset in two: 80% of the observations (randomly selected) are included in the training set (used to calibrate the weights of the NN), while the remaining 20% become part of the testing set (used to measure the accuracy of the model on unseen data). Those proportions can be modified by changing the parameter *test_size*."
   ]
  },
  {
   "cell_type": "code",
   "execution_count": 6,
   "id": "c6f9341b",
   "metadata": {
    "executionInfo": {
     "elapsed": 999,
     "status": "ok",
     "timestamp": 1715798424170,
     "user": {
      "displayName": "Johnny M",
      "userId": "01154982244905029082"
     },
     "user_tz": -120
    },
    "id": "c6f9341b"
   },
   "outputs": [],
   "source": [
    "from sklearn.model_selection import train_test_split\n",
    "\n",
    "#Splits dataset randomly into testing (20% of observations) and training (80%)\n",
    "train_set, test_set = train_test_split(data, test_size = 0.2, random_state = 0)\n",
    "\n",
    "#TRAINING\n",
    "x_train = train_set['x']\n",
    "y_train = train_set['y']\n",
    "\n",
    "#TESTING\n",
    "x_test = test_set['x']\n",
    "y_test = test_set['y']"
   ]
  },
  {
   "cell_type": "markdown",
   "id": "aa96c4c0",
   "metadata": {
    "id": "aa96c4c0"
   },
   "source": [
    "We convert the training and testing sets to Pytorch tensors, which is the data structure handle by Pytorch for NN training."
   ]
  },
  {
   "cell_type": "code",
   "execution_count": 7,
   "id": "d7024a14",
   "metadata": {
    "executionInfo": {
     "elapsed": 8905,
     "status": "ok",
     "timestamp": 1715798433879,
     "user": {
      "displayName": "Johnny M",
      "userId": "01154982244905029082"
     },
     "user_tz": -120
    },
    "id": "d7024a14"
   },
   "outputs": [],
   "source": [
    "tensor_list = x_train.apply(lambda x: torch.tensor(x)).tolist()\n",
    "x_train = torch.stack(tensor_list).to(dtype=torch.float32)\n",
    "\n",
    "tensor_list = y_train.apply(lambda x: torch.tensor(x)).tolist()\n",
    "y_train = torch.stack(tensor_list).to(dtype=torch.float32)\n",
    "\n",
    "tensor_list = x_test.apply(lambda x: torch.tensor(x)).tolist()\n",
    "x_test = torch.stack(tensor_list).to(dtype=torch.float32)\n",
    "\n",
    "tensor_list = y_test.apply(lambda x: torch.tensor(x)).tolist()\n",
    "y_test = torch.stack(tensor_list).to(dtype=torch.float32)"
   ]
  },
  {
   "cell_type": "markdown",
   "id": "b1d22a5b",
   "metadata": {
    "id": "b1d22a5b"
   },
   "source": [
    "We can check the shape (dimensions) of the tensors as below.\n"
   ]
  },
  {
   "cell_type": "code",
   "execution_count": 8,
   "id": "d8396e06",
   "metadata": {
    "colab": {
     "base_uri": "https://localhost:8080/"
    },
    "executionInfo": {
     "elapsed": 2,
     "status": "ok",
     "timestamp": 1715798433879,
     "user": {
      "displayName": "Johnny M",
      "userId": "01154982244905029082"
     },
     "user_tz": -120
    },
    "id": "d8396e06",
    "outputId": "7eeb59d7-6dd6-4b58-c796-9605058e3fb9"
   },
   "outputs": [
    {
     "name": "stdout",
     "output_type": "stream",
     "text": [
      "x_train shape: torch.Size([160000, 3])\n",
      "x_test shape: torch.Size([40000, 3])\n",
      "y_train shape: torch.Size([160000, 3])\n",
      "y_test shape: torch.Size([40000, 3])\n",
      "160000 train samples\n",
      "40000 test samples\n"
     ]
    }
   ],
   "source": [
    "print('x_train shape:', x_train.shape)\n",
    "print('x_test shape:', x_test.shape)\n",
    "print('y_train shape:', y_train.shape)\n",
    "print('y_test shape:', y_test.shape)\n",
    "\n",
    "print(x_train.shape[0], 'train samples')\n",
    "print(x_test.shape[0], 'test samples')"
   ]
  },
  {
   "cell_type": "markdown",
   "id": "30956c95",
   "metadata": {
    "id": "30956c95"
   },
   "source": [
    "### 4) Building our first (simple and small) neural network\n",
    "The goal is now to create a **dense feedforward neural network** (hereafter denoted by $f_{\\text{NN}}$) which can represent the Dubins car dynamics. In other words, we would like that, for any input $x \\in \\mathbb{R}^3$, $f_{\\text{NN}}(w, x) \\approx f(x)$ (where $w$ represents the weights of the NN).\n"
   ]
  },
  {
   "cell_type": "markdown",
   "id": "d52f0272",
   "metadata": {
    "id": "d52f0272"
   },
   "source": [
    "In the Pytorch framework, we build the NN as a class, as seen below."
   ]
  },
  {
   "cell_type": "code",
   "execution_count": null,
   "id": "c64b0028",
   "metadata": {
    "id": "c64b0028"
   },
   "outputs": [],
   "source": [
    "class Neural_network(nn.Module): # inherit the nn.Module class for backpropagation and training functionalities\n",
    "\n",
    "    #Build the layers of the network, and initializes the parameters\n",
    "    def __init__(self):\n",
    "        super(Neural_network, self).__init__()\n",
    "        self.fc1 = nn.Linear(3, 10, bias = True)  # fully connected layer from 3 to 10 dimensions\n",
    "        self.fc2 = nn.Linear(10, 3, bias = True) # fully connected layer from 10 to 3 dimensions\n",
    "\n",
    "    #Build the forward call\n",
    "    def forward(self, x):\n",
    "        x = torch.flatten(x, start_dim = 1) # x is reshaped into a n x 3 dimensional input (actually not needed in our case, but usually useful)\n",
    "        x = self.fc1(x) # apply the first fully connected layer, x now has shape n x 10\n",
    "        x = F.relu(x) # apply a ReLU activation to the hidden layer\n",
    "        x = self.fc2(x) # apply the second fully connected layer, x now has shape n x 3\n",
    "        return x"
   ]
  },
  {
   "cell_type": "markdown",
   "id": "376480c4",
   "metadata": {
    "id": "376480c4"
   },
   "source": [
    "The parts of the model, as well as their respective parameters, can then be displayed:"
   ]
  },
  {
   "cell_type": "code",
   "execution_count": null,
   "id": "fcabc55e",
   "metadata": {
    "colab": {
     "base_uri": "https://localhost:8080/"
    },
    "executionInfo": {
     "elapsed": 2,
     "status": "ok",
     "timestamp": 1715708406695,
     "user": {
      "displayName": "johnnylearning",
      "userId": "01687378194533751289"
     },
     "user_tz": -120
    },
    "id": "fcabc55e",
    "outputId": "23ce8de0-ad85-4371-beee-e49d5d75ffea"
   },
   "outputs": [
    {
     "name": "stdout",
     "output_type": "stream",
     "text": [
      "Neural_network(\n",
      "  (fc1): Linear(in_features=3, out_features=10, bias=True)\n",
      "  (fc2): Linear(in_features=10, out_features=3, bias=True)\n",
      ")\n",
      "\n",
      "Number of parameter arrays: 4\n",
      "The shape of the parameter arrays:\n",
      "torch.Size([10, 3])\n",
      "torch.Size([10])\n",
      "torch.Size([3, 10])\n",
      "torch.Size([3])\n"
     ]
    }
   ],
   "source": [
    "torch.manual_seed(0) # set random seed for variabl initialization\n",
    "\n",
    "net = Neural_network() # initialize the NN\n",
    "print(net)\n",
    "print('')\n",
    "\n",
    "params = list(net.parameters())\n",
    "print('Number of parameter arrays: ' + str(len(params)))\n",
    "print('The shape of the parameter arrays:')\n",
    "\n",
    "for param in params:\n",
    "    print(param.shape)"
   ]
  },
  {
   "cell_type": "markdown",
   "id": "ffb01ffd",
   "metadata": {
    "id": "ffb01ffd"
   },
   "source": [
    "#### 4.1) Training the model\n",
    "After writing the model class, we can now train the parameters of the model on the training dataset. Here, we have to do a number of steps.\n",
    "\n",
    "##### 4.1.1) Defining the loss function\n",
    "\n",
    "The loss function captures the distance between an actual output and the predicted output by the neural network. In our case, we are in a regression setting, and we propose to use the MSE loss (https://pytorch.org/docs/stable/generated/torch.nn.MSELoss.html#torch.nn.MSELoss). More precisely, given a dataset $\\mathcal{D} = \\{ (x_i, y_i) \\}_{i=1}^{N}$, we define\n",
    "\n",
    "\\begin{equation}\n",
    "L(w; \\mathcal{D}) := \\frac{1}{N} \\sum_{i=1}^{N} ||y_i - f_{\\text{NN}}(w, x_i)||^{2}\n",
    "\\end{equation}"
   ]
  },
  {
   "cell_type": "code",
   "execution_count": null,
   "id": "634b7966",
   "metadata": {
    "id": "634b7966"
   },
   "outputs": [],
   "source": [
    "loss_func = nn.MSELoss()"
   ]
  },
  {
   "cell_type": "markdown",
   "id": "6386e01d",
   "metadata": {
    "id": "6386e01d"
   },
   "source": [
    "##### 4.1.2) Defining the optimizer"
   ]
  },
  {
   "cell_type": "markdown",
   "id": "3bb8aa2d",
   "metadata": {
    "id": "3bb8aa2d"
   },
   "source": [
    "Gradient descent is usually the optimization technique used to minimize the loss. Once we have computed the gradient of the loss $L$ with respect to the weights $w$, there are several ways in which we can update $w$. Pytorch offers several optimizer algorithms for such a task  (https://pytorch.org/docs/stable/optim.html): Adadelta, Adagrad, Adam, etc.\n",
    "\n",
    "This paper (https://arxiv.org/pdf/1412.6980.pdf) introduces the Adam algorithm, which we employ in this notebook."
   ]
  },
  {
   "cell_type": "code",
   "execution_count": null,
   "id": "c0f88c7a",
   "metadata": {
    "id": "c0f88c7a"
   },
   "outputs": [],
   "source": [
    "optimizer = optim.Adam(net.parameters(), lr = 0.001, betas = (0.9, 0.999))"
   ]
  },
  {
   "cell_type": "markdown",
   "id": "69744f66",
   "metadata": {
    "id": "69744f66"
   },
   "source": [
    "##### 4.1.3) Training routine\n",
    "\n",
    "We describe the training routine as follows:\n",
    "\n",
    "- Subdivide the training set in (randomly selected) batches of size *batch_size*. The batch $k$ will be represented by $\\mathcal{B}_{k} = \\{ (x_i, y_i) \\}_{i=1}^{B}$, and contains $B$ randomly selected samples from $\\mathcal{D}$.\n",
    "\n",
    "- For each batch $\\mathcal{B}_{k}$, compute the gradient of the loss $L(w; \\mathcal{B}_{k})$ with respect to $w$. Note that we are <ins>considering the loss on the batch</ins> $\\mathcal{B}_{k}$, and not on the whole training set $\\mathcal{D}$.\n",
    "\n",
    "    - Update the weights $w$ according to the rule defined by the optimizer. You can think of this step as some kind of weight update $w \\gets w - \\eta \\nabla_{w} L(w; \\mathcal{B}_{k})$.\n",
    "\n",
    "\n",
    "\n",
    "Note that this process is repeated for a number of epochs, which is just a fancy name for number of times that we pass through the entire dataset."
   ]
  },
  {
   "cell_type": "code",
   "execution_count": null,
   "id": "a309b43c",
   "metadata": {
    "id": "a309b43c"
   },
   "outputs": [],
   "source": [
    "epochs = 100 # how many times we want to go through the whole data set\n",
    "batch_size = 16 # how many samples do we process before updating weights\n",
    "batches = int(np.floor(len(y_train)/batch_size)) # how many batches are there when dividing the whole data set\n",
    "\n",
    "net.train() # set network to training mode\n",
    "Index = np.arange(len(y_train)) #Index, so we can randomly shuffle inputs and outputs\n",
    "\n",
    "np.random.seed(0) # set random seed for shuffling\n",
    "\n",
    "loss_per_epoch = []\n",
    "\n",
    "for epoch in range(1, epochs + 1):\n",
    "    np.random.shuffle(Index) # shuffle indices, so batches have randomly selected samples\n",
    "\n",
    "    loss_epoch = 0\n",
    "\n",
    "    for batch in range(batches):\n",
    "        Index_batch = Index[batch * batch_size:(batch + 1) * batch_size]\n",
    "        x_batch = x_train[Index_batch] # Get respective input data\n",
    "        y_batch = y_train[Index_batch] # Get respective output data\n",
    "\n",
    "        # delete gradients from optimizer (otherwise, gradients are cummulative summed up over all previous batches)\n",
    "        optimizer.zero_grad()\n",
    "        # predict the output for the given inputs (forward pass)\n",
    "        y_batch_pred = net(x_batch)\n",
    "        # calculate the loss of the predicted input (forward pass)\n",
    "        loss = loss_func(y_batch_pred, y_batch)\n",
    "        # get the gradients of the trainable paramters for the given loss (backward pass)\n",
    "        loss.backward()\n",
    "        # apply the gradients and change weights\n",
    "        optimizer.step()\n",
    "\n",
    "        loss_epoch += loss\n",
    "\n",
    "    loss_epoch /= batches\n",
    "\n",
    "    loss_per_epoch.append(loss_epoch.item())\n",
    "    #print('Loss for epoch {}/{}: {:0.4e}'.format(epoch, epochs, loss_epoch) )"
   ]
  },
  {
   "cell_type": "code",
   "execution_count": null,
   "id": "8da936d3",
   "metadata": {
    "colab": {
     "base_uri": "https://localhost:8080/",
     "height": 449
    },
    "executionInfo": {
     "elapsed": 663,
     "status": "ok",
     "timestamp": 1715264333876,
     "user": {
      "displayName": "Johnny M",
      "userId": "01154982244905029082"
     },
     "user_tz": -120
    },
    "id": "8da936d3",
    "outputId": "3b35e27d-0f1f-4d12-b128-0cf7a2dcae3a"
   },
   "outputs": [
    {
     "data": {
      "image/png": "[encoded data removed]",
      "text/plain": [
       "<Figure size 640x480 with 1 Axes>"
      ]
     },
     "metadata": {},
     "output_type": "display_data"
    }
   ],
   "source": [
    "plt.plot(loss_per_epoch)\n",
    "plt.xlabel('Epochs')\n",
    "plt.ylabel('Avg loss per epoch')\n",
    "plt.show()"
   ]
  },
  {
   "cell_type": "markdown",
   "id": "193ca335",
   "metadata": {
    "id": "193ca335"
   },
   "source": [
    "### 5) Testing the model\n",
    "Finally, the model has to be tested in the testing set (data that was not seen during the training phase):"
   ]
  },
  {
   "cell_type": "code",
   "execution_count": null,
   "id": "5f25e4f1",
   "metadata": {
    "id": "5f25e4f1"
   },
   "outputs": [],
   "source": [
    "net.eval() # Set model inot evaluation mode\n",
    "with torch.no_grad(): # Only build forwards graph => faster method\n",
    "    y_test_pred = net(x_test)"
   ]
  },
  {
   "cell_type": "code",
   "execution_count": null,
   "id": "6c59d0db",
   "metadata": {
    "colab": {
     "base_uri": "https://localhost:8080/"
    },
    "executionInfo": {
     "elapsed": 4,
     "status": "ok",
     "timestamp": 1715264340163,
     "user": {
      "displayName": "Johnny M",
      "userId": "01154982244905029082"
     },
     "user_tz": -120
    },
    "id": "6c59d0db",
    "outputId": "998004f7-9c75-4208-b544-40dceea3d6b3"
   },
   "outputs": [
    {
     "name": "stdout",
     "output_type": "stream",
     "text": [
      "Loss on testing set: tensor(0.0405)\n"
     ]
    }
   ],
   "source": [
    "loss_test = loss_func(y_test, y_test_pred)\n",
    "\n",
    "print('Loss on testing set:', loss_test)"
   ]
  },
  {
   "cell_type": "code",
   "execution_count": null,
   "id": "YE_H5tikuteW",
   "metadata": {
    "id": "YE_H5tikuteW"
   },
   "outputs": [],
   "source": [
    "import os\n",
    "os.chdir('/content/drive/MyDrive/ML S&C PracticalAssignment1')\n"
   ]
  },
  {
   "cell_type": "markdown",
   "id": "b9df8587",
   "metadata": {
    "id": "b9df8587"
   },
   "source": [
    "### 6) Visualizing predictions"
   ]
  },
  {
   "cell_type": "code",
   "execution_count": null,
   "id": "edc4e34c",
   "metadata": {
    "id": "edc4e34c"
   },
   "outputs": [],
   "source": [
    "from parameters import h, v, u\n",
    "\n",
    "h = h\n",
    "v = v\n",
    "u = u\n",
    "\n",
    "params = [h, v, u]"
   ]
  },
  {
   "cell_type": "markdown",
   "id": "c7cda6ff",
   "metadata": {
    "id": "c7cda6ff"
   },
   "source": [
    "We run the dynamics for $H$ steps using the true dynamics (blue points) and the predictions coming from our trained NN (red points) for a prespecified initial point $x_0$. Note that we plot only the first two components of the state vectors, which correspond to the car position $(x_{t}^{(1)}, x_{t}^{(2)}) = (x,y)$ on the $\\mathbb{R}^2$ plane."
   ]
  },
  {
   "cell_type": "code",
   "execution_count": null,
   "id": "77b6f04f",
   "metadata": {
    "id": "77b6f04f"
   },
   "outputs": [],
   "source": [
    "import utils\n",
    "\n",
    "def plotActualDynamicsAndNNPredictions(initial_state):\n",
    "\n",
    "    state_actual = initial_state\n",
    "    plt.scatter(state_actual[0][0], state_actual[0][1], color = 'blue')\n",
    "    plt.text(state_actual[0][0] + 0.1, state_actual[0][1], '1', fontsize=10, color='blue', weight='bold') # add time step marker\n",
    "\n",
    "    state_nn = torch.Tensor(initial_state)\n",
    "\n",
    "    for t in range(10):\n",
    "\n",
    "        #True dynamics\n",
    "        state_actual = utils.systemDynamics(state_actual, params)\n",
    "        plt.scatter(state_actual[0][0], state_actual[0][1], color = 'blue')\n",
    "        plt.text(state_actual[0][0] + 0.1, state_actual[0][1], t+2, fontsize=10, color='blue', weight='bold') # add time step marker\n",
    "\n",
    "        #NN dynamics\n",
    "        with torch.no_grad():\n",
    "            state_nn = net(state_nn)\n",
    "\n",
    "        plt.scatter(state_nn[0][0], state_nn[0][1], color = 'red')\n",
    "        plt.text(state_nn[0][0] + 0.1, state_nn[0][1], t+2, fontsize=10, color='red', weight='bold') # add time step marker\n",
    "\n",
    "\n",
    "    plt.text(0, -0.15, 'Actual dynamics', fontsize=10, color='blue', weight='bold', transform=plt.gca().transAxes) #add legend\n",
    "    plt.text(0, -0.2, 'NN prediction', fontsize=10, color='red', weight='bold', transform=plt.gca().transAxes) #add legend"
   ]
  },
  {
   "cell_type": "markdown",
   "id": "f62c302e",
   "metadata": {
    "id": "f62c302e"
   },
   "source": [
    "#### 6.1) For $x_0 = [1.0, 1.0, 0.5]$"
   ]
  },
  {
   "cell_type": "code",
   "execution_count": null,
   "id": "318118d5",
   "metadata": {
    "colab": {
     "base_uri": "https://localhost:8080/",
     "height": 483
    },
    "executionInfo": {
     "elapsed": 1231,
     "status": "ok",
     "timestamp": 1715264575145,
     "user": {
      "displayName": "Johnny M",
      "userId": "01154982244905029082"
     },
     "user_tz": -120
    },
    "id": "318118d5",
    "outputId": "a9631af4-776b-4e39-a289-1cbbaa1f6c51"
   },
   "outputs": [
    {
     "data": {
      "image/png": "[encoded data removed]",
      "text/plain": [
       "<Figure size 640x480 with 1 Axes>"
      ]
     },
     "metadata": {},
     "output_type": "display_data"
    }
   ],
   "source": [
    "initial_state = np.array([[1.0, 1.0, 0.5]])\n",
    "plotActualDynamicsAndNNPredictions(initial_state)"
   ]
  },
  {
   "cell_type": "markdown",
   "id": "9d106dc9",
   "metadata": {
    "id": "9d106dc9"
   },
   "source": [
    "#### 6.2) For $x_0 = [5.0, 8.0, 1.5]$"
   ]
  },
  {
   "cell_type": "code",
   "execution_count": null,
   "id": "ed8dfccc",
   "metadata": {
    "colab": {
     "base_uri": "https://localhost:8080/",
     "height": 483
    },
    "executionInfo": {
     "elapsed": 751,
     "status": "ok",
     "timestamp": 1715264594868,
     "user": {
      "displayName": "Johnny M",
      "userId": "01154982244905029082"
     },
     "user_tz": -120
    },
    "id": "ed8dfccc",
    "outputId": "b051c46d-cecb-4d71-81b8-390e342e97fe"
   },
   "outputs": [
    {
     "data": {
      "image/png": "[encoded data removed]",
      "text/plain": [
       "<Figure size 640x480 with 1 Axes>"
      ]
     },
     "metadata": {},
     "output_type": "display_data"
    }
   ],
   "source": [
    "initial_state = np.array([[5.0, 8.0, 1.5]])\n",
    "plotActualDynamicsAndNNPredictions(initial_state)"
   ]
  },
  {
   "cell_type": "markdown",
   "id": "65b6efce",
   "metadata": {},
   "source": [
    "### 7) Building a larger and more accurate NN\n",
    "\n",
    "After seeing the previous example, we now have the goal of building <ins>a larger and more accurate NN.</ins> For this, we propose the changes below (but feel free to test other possibilities). Also, we ask a few more questions to guide your understanding of the training.\n",
    "\n",
    "**NN structure**:\n",
    "\n",
    "- <ins>Add one or two new hidden layers, varying the number of neurons per hidden layer.</ins> OBS: There are some discussions on the literature about *depth vs width* of neural networks.\n",
    "\n",
    "- Test other types of <ins>activation functions (other than ReLU).\n",
    "\n",
    "**Training parameters**:\n",
    "\n",
    "- Increase the number of <ins>epochs; change the batch size</ins>\n",
    "\n",
    "- Test other types of <ins>optimizers</ins> (e.g. RMSprop, Adagrad, ...)\n",
    "\n",
    "- <ins>Add regularization to the loss function</ins> (e.g. L1, L2, Drpoout, Early stopping)\n",
    "\n"
   ]
  },
  {
   "cell_type": "code",
   "execution_count": 9,
   "id": "fcd44858",
   "metadata": {
    "executionInfo": {
     "elapsed": 189,
     "status": "ok",
     "timestamp": 1715798445023,
     "user": {
      "displayName": "Johnny M",
      "userId": "01154982244905029082"
     },
     "user_tz": -120
    },
    "id": "fcd44858"
   },
   "outputs": [],
   "source": [
    "#ADD CODE HERE FOR SECTION 7\n",
    "\n",
    "import torch\n",
    "import torch.nn as nn\n",
    "import torch.nn.functional as F\n",
    "\n",
    "class Neural_network(nn.Module):\n",
    "    def __init__(self):\n",
    "        super(Neural_network, self).__init__()\n",
    "        self.fc1 = nn.Linear(3, 7, bias=True)\n",
    "        self.fc2 = nn.Linear(7, 10, bias=True)\n",
    "        self.fc3 = nn.Linear(10, 3, bias=True)\n",
    "\n",
    "    def forward(self, x):\n",
    "        x = torch.flatten(x, start_dim=1)\n",
    "        x = F.sigmoid(self.fc1(x))\n",
    "        x = F.sigmoid(self.fc2(x))\n",
    "        x = self.fc3(x)\n",
    "        return x\n"
   ]
  },
  {
   "cell_type": "code",
   "execution_count": 10,
   "id": "9Ba6Q4UNsCQs",
   "metadata": {
    "colab": {
     "base_uri": "https://localhost:8080/"
    },
    "executionInfo": {
     "elapsed": 2,
     "status": "ok",
     "timestamp": 1715798447930,
     "user": {
      "displayName": "Johnny M",
      "userId": "01154982244905029082"
     },
     "user_tz": -120
    },
    "id": "9Ba6Q4UNsCQs",
    "outputId": "8394a2b7-0ea1-48c1-cdbc-eebacd9fd723"
   },
   "outputs": [
    {
     "name": "stdout",
     "output_type": "stream",
     "text": [
      "Neural_network(\n",
      "  (fc1): Linear(in_features=3, out_features=7, bias=True)\n",
      "  (fc2): Linear(in_features=7, out_features=10, bias=True)\n",
      "  (fc3): Linear(in_features=10, out_features=3, bias=True)\n",
      ")\n",
      "\n",
      "Number of parameter arrays: 6\n",
      "The shape of the parameter arrays:\n",
      "torch.Size([7, 3])\n",
      "torch.Size([7])\n",
      "torch.Size([10, 7])\n",
      "torch.Size([10])\n",
      "torch.Size([3, 10])\n",
      "torch.Size([3])\n"
     ]
    }
   ],
   "source": [
    "torch.manual_seed(0) # set random seed for variabl initialization\n",
    "\n",
    "net = Neural_network() # initialize the NN\n",
    "print(net)\n",
    "print('')\n",
    "\n",
    "params = list(net.parameters())\n",
    "print('Number of parameter arrays: ' + str(len(params)))\n",
    "print('The shape of the parameter arrays:')\n",
    "\n",
    "for param in params:\n",
    "    print(param.shape)"
   ]
  },
  {
   "cell_type": "code",
   "execution_count": 11,
   "id": "JAL2_RjIsUcS",
   "metadata": {
    "executionInfo": {
     "elapsed": 190,
     "status": "ok",
     "timestamp": 1715798452452,
     "user": {
      "displayName": "Johnny M",
      "userId": "01154982244905029082"
     },
     "user_tz": -120
    },
    "id": "JAL2_RjIsUcS"
   },
   "outputs": [],
   "source": [
    "loss_func = nn.MSELoss()"
   ]
  },
  {
   "cell_type": "code",
   "execution_count": 12,
   "id": "KPnXIa7isVWs",
   "metadata": {
    "executionInfo": {
     "elapsed": 2183,
     "status": "ok",
     "timestamp": 1715798456050,
     "user": {
      "displayName": "Johnny M",
      "userId": "01154982244905029082"
     },
     "user_tz": -120
    },
    "id": "KPnXIa7isVWs"
   },
   "outputs": [],
   "source": [
    "optimizer = optim.NAdam(net.parameters(), lr=0.001, betas=(0.9, 0.999), eps=1e-08)"
   ]
  },
  {
   "cell_type": "code",
   "execution_count": null,
   "id": "mqvTMiyqs3oV",
   "metadata": {
    "colab": {
     "base_uri": "https://localhost:8080/"
    },
    "id": "mqvTMiyqs3oV",
    "outputId": "3c48c144-a7d0-4a43-fa53-aae78e2d6219"
   },
   "outputs": [
    {
     "name": "stderr",
     "output_type": "stream",
     "text": [
      "<ipython-input-18-5b73150066ad>:22: UserWarning: To copy construct from a tensor, it is recommended to use sourceTensor.clone().detach() or sourceTensor.clone().detach().requires_grad_(True), rather than torch.tensor(sourceTensor).\n",
      "  x_batch = torch.tensor(x_train[Index_batch], dtype=torch.float32)  # Convert to PyTorch tensor\n",
      "<ipython-input-18-5b73150066ad>:23: UserWarning: To copy construct from a tensor, it is recommended to use sourceTensor.clone().detach() or sourceTensor.clone().detach().requires_grad_(True), rather than torch.tensor(sourceTensor).\n",
      "  y_batch = torch.tensor(y_train[Index_batch], dtype=torch.float32)  # Convert to PyTorch tensor\n"
     ]
    }
   ],
   "source": [
    "\n",
    "# epochs = 100\n",
    "# batch_size = 16\n",
    "\n",
    "epochs = 150\n",
    "batch_size = 15\n",
    "batches = int(np.floor(len(y_train) / batch_size))\n",
    "\n",
    "net.train()\n",
    "Index = np.arange(len(y_train))\n",
    "np.random.seed(0)\n",
    "\n",
    "loss_per_epoch1 = []\n",
    "\n",
    "lambda_reg = 0.001  # Regularization strength\n",
    "\n",
    "for epoch in range(1, epochs + 1):\n",
    "    np.random.shuffle(Index)\n",
    "    loss_epoch = 0\n",
    "\n",
    "    for batch in range(batches):\n",
    "        Index_batch = Index[batch * batch_size:(batch + 1) * batch_size]\n",
    "        x_batch = torch.tensor(x_train[Index_batch], dtype=torch.float32)  # Convert to PyTorch tensor\n",
    "        y_batch = torch.tensor(y_train[Index_batch], dtype=torch.float32)  # Convert to PyTorch tensor\n",
    "\n",
    "        optimizer.zero_grad()\n",
    "        y_batch_pred = net(x_batch)\n",
    "\n",
    "        # # Add dropout after the first fully connected layer\n",
    "        # dropout = nn.Dropout(p=0.5)\n",
    "        # x_batch = dropout(x_batch)\n",
    "\n",
    "        loss = loss_func(y_batch_pred, y_batch)\n",
    "\n",
    "        # Add L2 regularization to the loss\n",
    "        l2_regularization = 0.0\n",
    "        for param in net.parameters():\n",
    "            l2_regularization += torch.norm(param, p=2)**2\n",
    "        loss += lambda_reg * l2_regularization\n",
    "\n",
    "\n",
    "        # # Add L1 regularization to the loss\n",
    "        # l1_regularization = 0.0\n",
    "        # for param1 in net.parameters():\n",
    "        #     l1_regularization += torch.norm(param1, p=1)\n",
    "        # loss += lambda_reg * l1_regularization\n",
    "\n",
    "\n",
    "        loss.backward()\n",
    "        optimizer.step()\n",
    "\n",
    "        loss_epoch += loss.item()\n",
    "\n",
    "    loss_epoch /= batches\n",
    "    loss_per_epoch1.append(loss_epoch)\n",
    "    # print(f'Loss for epoch {epoch}/{epochs}: {loss_epoch:.4e}')\n",
    "\n",
    "\n"
   ]
  },
  {
   "cell_type": "code",
   "execution_count": 14,
   "id": "FaMAteXst5XL",
   "metadata": {
    "colab": {
     "base_uri": "https://localhost:8080/",
     "height": 452
    },
    "executionInfo": {
     "elapsed": 584,
     "status": "ok",
     "timestamp": 1715799956771,
     "user": {
      "displayName": "Johnny M",
      "userId": "01154982244905029082"
     },
     "user_tz": -120
    },
    "id": "FaMAteXst5XL",
    "outputId": "2716740a-9e78-44cc-f292-a5cf89d3459a"
   },
   "outputs": [
    {
     "data": {
      "image/png": "[encoded data removed]",
      "text/plain": [
       "<Figure size 640x480 with 1 Axes>"
      ]
     },
     "metadata": {},
     "output_type": "display_data"
    }
   ],
   "source": [
    "plt.plot(loss_per_epoch1)\n",
    "plt.xlabel('Epochs')\n",
    "plt.ylabel('Avg loss per epoch')\n",
    "plt.show()"
   ]
  },
  {
   "cell_type": "code",
   "execution_count": 16,
   "id": "X8rSpeOcyDfU",
   "metadata": {
    "executionInfo": {
     "elapsed": 188,
     "status": "ok",
     "timestamp": 1715799971237,
     "user": {
      "displayName": "Johnny M",
      "userId": "01154982244905029082"
     },
     "user_tz": -120
    },
    "id": "X8rSpeOcyDfU"
   },
   "outputs": [],
   "source": [
    "net.eval() # Set model inot evaluation mode\n",
    "with torch.no_grad(): # Only build forwards graph => faster method\n",
    "    y_test_pred = net(x_test)"
   ]
  },
  {
   "cell_type": "code",
   "execution_count": 17,
   "id": "jo8qL5O9yFHe",
   "metadata": {
    "colab": {
     "base_uri": "https://localhost:8080/"
    },
    "executionInfo": {
     "elapsed": 195,
     "status": "ok",
     "timestamp": 1715799975212,
     "user": {
      "displayName": "Johnny M",
      "userId": "01154982244905029082"
     },
     "user_tz": -120
    },
    "id": "jo8qL5O9yFHe",
    "outputId": "b515b4bb-45de-41b9-a0cc-8a7cbde9f913"
   },
   "outputs": [
    {
     "name": "stdout",
     "output_type": "stream",
     "text": [
      "Loss on testing set: tensor(0.2379)\n"
     ]
    }
   ],
   "source": [
    "loss_test = loss_func(y_test, y_test_pred)\n",
    "\n",
    "print('Loss on testing set:', loss_test)\n",
    "# 0.1672"
   ]
  },
  {
   "cell_type": "code",
   "execution_count": null,
   "id": "kuCZWNggyP2N",
   "metadata": {
    "id": "kuCZWNggyP2N"
   },
   "outputs": [],
   "source": [
    "from parameters import h, v, u\n",
    "\n",
    "h = h\n",
    "v = v\n",
    "u = u\n",
    "\n",
    "params = [h, v, u]"
   ]
  },
  {
   "cell_type": "code",
   "execution_count": null,
   "id": "g08nvMHByYuD",
   "metadata": {
    "id": "g08nvMHByYuD"
   },
   "outputs": [],
   "source": [
    "import utils\n",
    "\n",
    "def plotActualDynamicsAndNNPredictions(initial_state):\n",
    "\n",
    "    state_actual = initial_state\n",
    "    plt.scatter(state_actual[0][0], state_actual[0][1], color = 'blue')\n",
    "    plt.text(state_actual[0][0] + 0.1, state_actual[0][1], '1', fontsize=10, color='blue', weight='bold') # add time step marker\n",
    "\n",
    "    state_nn = torch.Tensor(initial_state)\n",
    "\n",
    "    for t in range(10):\n",
    "\n",
    "        #True dynamics\n",
    "        state_actual = utils.systemDynamics(state_actual, params)\n",
    "        plt.scatter(state_actual[0][0], state_actual[0][1], color = 'blue')\n",
    "        plt.text(state_actual[0][0] + 0.1, state_actual[0][1], t+2, fontsize=10, color='blue', weight='bold') # add time step marker\n",
    "\n",
    "        #NN dynamics\n",
    "        with torch.no_grad():\n",
    "            state_nn = net(state_nn)\n",
    "\n",
    "        plt.scatter(state_nn[0][0], state_nn[0][1], color = 'red')\n",
    "        plt.text(state_nn[0][0] + 0.1, state_nn[0][1], t+2, fontsize=10, color='red', weight='bold') # add time step marker\n",
    "\n",
    "\n",
    "    plt.text(0, -0.15, 'Actual dynamics', fontsize=10, color='blue', weight='bold', transform=plt.gca().transAxes) #add legend\n",
    "    plt.text(0, -0.2, 'NN prediction', fontsize=10, color='red', weight='bold', transform=plt.gca().transAxes) #add legend\n"
   ]
  },
  {
   "cell_type": "code",
   "execution_count": null,
   "id": "2mZcN2NgyZ_l",
   "metadata": {
    "colab": {
     "base_uri": "https://localhost:8080/",
     "height": 483
    },
    "executionInfo": {
     "elapsed": 706,
     "status": "ok",
     "timestamp": 1715270641732,
     "user": {
      "displayName": "Johnny M",
      "userId": "01154982244905029082"
     },
     "user_tz": -120
    },
    "id": "2mZcN2NgyZ_l",
    "outputId": "99ec8cd1-92b9-4f5c-cf49-498f90da67a1"
   },
   "outputs": [
    {
     "data": {
      "image/png": "[encoded data removed]",
      "text/plain": [
       "<Figure size 640x480 with 1 Axes>"
      ]
     },
     "metadata": {},
     "output_type": "display_data"
    }
   ],
   "source": [
    "initial_state = np.array([[1.0, 1.0, 0.5]])\n",
    "plotActualDynamicsAndNNPredictions(initial_state)\n"
   ]
  },
  {
   "cell_type": "code",
   "execution_count": null,
   "id": "8P_GpnWAyhK7",
   "metadata": {
    "colab": {
     "base_uri": "https://localhost:8080/",
     "height": 483
    },
    "executionInfo": {
     "elapsed": 553,
     "status": "ok",
     "timestamp": 1715270659009,
     "user": {
      "displayName": "Johnny M",
      "userId": "01154982244905029082"
     },
     "user_tz": -120
    },
    "id": "8P_GpnWAyhK7",
    "outputId": "ada55516-ca53-4636-e0a3-659948d5b9ad"
   },
   "outputs": [
    {
     "data": {
      "image/png": "[encoded data removed]",
      "text/plain": [
       "<Figure size 640x480 with 1 Axes>"
      ]
     },
     "metadata": {},
     "output_type": "display_data"
    }
   ],
   "source": [
    "initial_state = np.array([[5.0, 8.0, 1.5]])\n",
    "plotActualDynamicsAndNNPredictions(initial_state)"
   ]
  }
 ],
 "metadata": {
  "accelerator": "GPU",
  "colab": {
   "gpuType": "T4",
   "provenance": []
  },
  "kernelspec": {
   "display_name": "Python 3",
   "name": "python3"
  },
  "language_info": {
   "codemirror_mode": {
    "name": "ipython",
    "version": 3
   },
   "file_extension": ".py",
   "mimetype": "text/x-python",
   "name": "python",
   "nbconvert_exporter": "python",
   "pygments_lexer": "ipython3",
   "version": "3.12.3"
  }
 },
 "nbformat": 4,
 "nbformat_minor": 5
}
